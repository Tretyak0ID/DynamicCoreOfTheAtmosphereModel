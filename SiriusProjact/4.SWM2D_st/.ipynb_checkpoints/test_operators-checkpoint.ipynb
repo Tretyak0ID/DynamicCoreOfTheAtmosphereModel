{
 "cells": [
  {
   "cell_type": "code",
   "execution_count": 56,
   "id": "362f45ca",
   "metadata": {},
   "outputs": [
    {
     "name": "stdout",
     "output_type": "stream",
     "text": [
      "The autoreload extension is already loaded. To reload it, use:\n",
      "  %reload_ext autoreload\n"
     ]
    }
   ],
   "source": [
    "%load_ext autoreload\n",
    "%autoreload 2\n",
    "\n",
    "import numpy as np\n",
    "from domain import Domain\n",
    "from operators import calc_div, central_diff2\n",
    "from vecmath import calc_c_norm, calc_l2_norm\n",
    "\n",
    "%matplotlib notebook"
   ]
  },
  {
   "cell_type": "code",
   "execution_count": 57,
   "id": "a52fabc6",
   "metadata": {},
   "outputs": [
    {
     "name": "stdout",
     "output_type": "stream",
     "text": [
      "Convergence rate in C norm = 1.9714416544896332\n",
      "Convergence rate in l2 norm = 1.971441654490144\n"
     ]
    }
   ],
   "source": [
    "c_norm = []\n",
    "l2_norm = []\n",
    "n_points = (16, 32, 64, 128)\n",
    "for n in n_points:\n",
    "    domain = Domain(xs = 0.0, xe = 2 * np.pi, nx = n, \\\n",
    "                    ys = 0.0, ye = 2 * np.pi, ny = n)\n",
    "\n",
    "    u =  2 * np.cos(2*domain.xx) * np.cos(3*domain.yy)\n",
    "    v = -3 * np.sin(2*domain.xx) * np.sin(3*domain.yy)\n",
    "    div_exact = -13 * np.sin(2*domain.xx) * np.cos(3*domain.yy)\n",
    "\n",
    "    div = calc_div(u, v, domain, diff_method=central_diff2)\n",
    "\n",
    "    err = div - div_exact\n",
    "\n",
    "    c_norm.append(calc_c_norm(err, domain) / calc_c_norm(div_exact, domain))\n",
    "    l2_norm.append(calc_l2_norm(err, domain) / calc_l2_norm(div_exact, domain))\n",
    "\n",
    "c_norm_convergence_rate = -np.polyfit(np.log(n_points), np.log(c_norm), deg=1)[0]\n",
    "l2_norm_convergence_rate = -np.polyfit(np.log(n_points), np.log(l2_norm), deg=1)[0]\n",
    "\n",
    "print(f\"Convergence rate in C norm = {c_norm_convergence_rate}\")\n",
    "print(f\"Convergence rate in l2 norm = {l2_norm_convergence_rate}\")"
   ]
  },
  {
   "cell_type": "code",
   "execution_count": null,
   "id": "acdff536",
   "metadata": {},
   "outputs": [],
   "source": []
  }
 ],
 "metadata": {
  "kernelspec": {
   "display_name": "Python 3 (ipykernel)",
   "language": "python",
   "name": "python3"
  },
  "language_info": {
   "codemirror_mode": {
    "name": "ipython",
    "version": 3
   },
   "file_extension": ".py",
   "mimetype": "text/x-python",
   "name": "python",
   "nbconvert_exporter": "python",
   "pygments_lexer": "ipython3",
   "version": "3.9.12"
  }
 },
 "nbformat": 4,
 "nbformat_minor": 5
}
