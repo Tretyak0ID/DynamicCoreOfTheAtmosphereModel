{
 "cells": [
  {
   "cell_type": "code",
   "execution_count": 3,
   "id": "ad63bf82",
   "metadata": {},
   "outputs": [],
   "source": [
    "#-ПОДКЛЮЧЕНИЕ-МОДУЛЕЙ-И-БИБЛИОТЕК-\n",
    "%matplotlib inline\n",
    "\n",
    "import numpy              as np\n",
    "import scipy\n",
    "import matplotlib.pyplot  as plt\n",
    "import glob\n",
    "import moviepy.editor     as mpy\n",
    "import nbimporter\n",
    "import math\n",
    "\n",
    "from scipy                import sparse\n",
    "from scipy.sparse         import linalg\n",
    "from numpy                import pi, sin, cos, ma\n",
    "from pylab                import *\n",
    "from mpl_toolkits.mplot3d import Axes3D\n",
    "from matplotlib           import cm\n",
    "from matplotlib.ticker    import LinearLocator, FormatStrFormatter\n",
    "from matplotlib           import animation\n",
    "\n",
    "import SpaceDifferentiationOperators as SD \n",
    "import TimeDifferentiationOperators as TD\n",
    "import SchemeAnalysis as SA"
   ]
  },
  {
   "cell_type": "markdown",
   "id": "dc278af2",
   "metadata": {},
   "source": [
    "------"
   ]
  },
  {
   "cell_type": "code",
   "execution_count": 2,
   "id": "9e42cc2a",
   "metadata": {},
   "outputs": [
    {
     "name": "stdout",
     "output_type": "stream",
     "text": [
      "Courant number: 0.5\n",
      "Courant number: 0.5\n",
      "Courant number: 0.5\n",
      "Courant number: 0.5\n",
      "Courant number: 0.5\n",
      "Courant number: 0.5\n",
      "Courant number: 0.5\n",
      "Courant number: 0.5\n"
     ]
    },
    {
     "data": {
      "text/plain": [
       "[<matplotlib.lines.Line2D at 0x7f7d45684cd0>]"
      ]
     },
     "execution_count": 2,
     "metadata": {},
     "output_type": "execute_result"
    },
    {
     "data": {
      "image/png": "[encoded data removed]",
      "text/plain": [
       "<Figure size 432x288 with 1 Axes>"
      ]
     },
     "metadata": {
      "needs_background": "light"
     },
     "output_type": "display_data"
    }
   ],
   "source": [
    "basis = 2\n",
    "num   = 8\n",
    "\n",
    "A = SA.ApproxAnalyzer('Euler', 'LeftPeriodic')\n",
    "l2Error = A.SinApprox(basis,num)\n",
    "\n",
    "p = np.zeros(num-1)\n",
    "ph = np.zeros(num-1)\n",
    "\n",
    "for i in range(num-1):\n",
    "    ph[i] = i\n",
    "    p[i]  = log2(l2Error[i]/l2Error[i+1])\n",
    "    \n",
    "plt.plot(ph,p)\n",
    "plt.plot(ph, np.ones(ph.size))"
   ]
  },
  {
   "cell_type": "markdown",
   "id": "6d8d971f",
   "metadata": {},
   "source": [
    "------"
   ]
  },
  {
   "cell_type": "code",
   "execution_count": 3,
   "id": "44c08a8b",
   "metadata": {},
   "outputs": [],
   "source": [
    "basis = 2\n",
    "num   = 8\n",
    "\n",
    "A = SA.ApproxAnalyzer('RK4', 'LeftPeriodic')\n",
    "l2Error = A.SinApprox(basis,num)"
   ]
  },
  {
   "cell_type": "code",
   "execution_count": 4,
   "id": "562087d1",
   "metadata": {},
   "outputs": [],
   "source": [
    "p = np.zeros(num-1)\n",
    "ph = np.zeros(num-1)\n",
    "\n",
    "for i in range(num-1):\n",
    "    ph[i] = i\n",
    "    p[i]  = log2(l2Error[i]/l2Error[i+1])"
   ]
  },
  {
   "cell_type": "code",
   "execution_count": 5,
   "id": "e26551fa",
   "metadata": {},
   "outputs": [
    {
     "data": {
      "text/plain": [
       "[<matplotlib.lines.Line2D at 0x7f7d45519a30>]"
      ]
     },
     "execution_count": 5,
     "metadata": {},
     "output_type": "execute_result"
    },
    {
     "data": {
      "image/png": "[encoded data removed]",
      "text/plain": [
       "<Figure size 432x288 with 1 Axes>"
      ]
     },
     "metadata": {
      "needs_background": "light"
     },
     "output_type": "display_data"
    }
   ],
   "source": [
    "plt.plot(ph,p)\n",
    "plt.plot(ph, np.ones(ph.size))"
   ]
  },
  {
   "cell_type": "markdown",
   "id": "3f7c9e3e",
   "metadata": {},
   "source": [
    "------"
   ]
  },
  {
   "cell_type": "code",
   "execution_count": 6,
   "id": "cc940316",
   "metadata": {},
   "outputs": [],
   "source": [
    "basis = 2\n",
    "num   = 8\n",
    "\n",
    "A = SA.ApproxAnalyzer('RK4', 'Center2Periodic')\n",
    "l2Error = A.SinApprox(basis,num)"
   ]
  },
  {
   "cell_type": "code",
   "execution_count": 7,
   "id": "d7899091",
   "metadata": {},
   "outputs": [],
   "source": [
    "p = np.zeros(num-1)\n",
    "ph = np.zeros(num-1)\n",
    "\n",
    "for i in range(num-1):\n",
    "    ph[i] = i\n",
    "    p[i]  = log2(l2Error[i]/l2Error[i+1])"
   ]
  },
  {
   "cell_type": "code",
   "execution_count": 8,
   "id": "45971817",
   "metadata": {},
   "outputs": [
    {
     "data": {
      "text/plain": [
       "[<matplotlib.lines.Line2D at 0x7f7d45495370>]"
      ]
     },
     "execution_count": 8,
     "metadata": {},
     "output_type": "execute_result"
    },
    {
     "data": {
      "image/png": "[encoded data removed]",
      "text/plain": [
       "<Figure size 432x288 with 1 Axes>"
      ]
     },
     "metadata": {
      "needs_background": "light"
     },
     "output_type": "display_data"
    }
   ],
   "source": [
    "plt.plot(ph,p)\n",
    "plt.plot(ph, 2*np.ones(ph.size))"
   ]
  },
  {
   "cell_type": "markdown",
   "id": "3f9a52b5",
   "metadata": {},
   "source": [
    "------"
   ]
  },
  {
   "cell_type": "code",
   "execution_count": 9,
   "id": "e37f96fe",
   "metadata": {},
   "outputs": [
    {
     "data": {
      "text/plain": [
       "[<matplotlib.lines.Line2D at 0x7f7d45480880>]"
      ]
     },
     "execution_count": 9,
     "metadata": {},
     "output_type": "execute_result"
    },
    {
     "data": {
      "image/png": "[encoded data removed]",
      "text/plain": [
       "<Figure size 432x288 with 1 Axes>"
      ]
     },
     "metadata": {
      "needs_background": "light"
     },
     "output_type": "display_data"
    }
   ],
   "source": [
    "basis = 2\n",
    "num   = 8\n",
    "\n",
    "A = SA.ApproxAnalyzer('RK4', 'Center4Periodic')\n",
    "l2Error = A.SinApprox(basis,num)\n",
    "\n",
    "p = np.zeros(num-1)\n",
    "ph = np.zeros(num-1)\n",
    "\n",
    "for i in range(num-1):\n",
    "    ph[i] = i\n",
    "    p[i]  = log2(l2Error[i]/l2Error[i+1])\n",
    "    \n",
    "plt.plot(ph,p)\n",
    "plt.plot(ph, 4*np.ones(ph.size))"
   ]
  },
  {
   "cell_type": "markdown",
   "id": "e18a03e0",
   "metadata": {},
   "source": [
    "------"
   ]
  },
  {
   "cell_type": "code",
   "execution_count": 10,
   "id": "2f24ddde",
   "metadata": {},
   "outputs": [
    {
     "data": {
      "text/plain": [
       "[<matplotlib.lines.Line2D at 0x7f7d453f1130>]"
      ]
     },
     "execution_count": 10,
     "metadata": {},
     "output_type": "execute_result"
    },
    {
     "data": {
      "image/png": "[encoded data removed]",
      "text/plain": [
       "<Figure size 432x288 with 1 Axes>"
      ]
     },
     "metadata": {
      "needs_background": "light"
     },
     "output_type": "display_data"
    }
   ],
   "source": [
    "basis = 2\n",
    "num   = 7\n",
    "\n",
    "A = SA.ApproxAnalyzer('RK4', 'SBP21PROJ')\n",
    "l2Error = A.SinApprox(basis,num)\n",
    "\n",
    "p = np.zeros(num-1)\n",
    "ph = np.zeros(num-1)\n",
    "\n",
    "for i in range(num-1):\n",
    "    ph[i] = i\n",
    "    p[i]  = log2(l2Error[i]/l2Error[i+1])\n",
    "    \n",
    "plt.plot(ph,p)\n",
    "plt.plot(ph, 2.5*np.ones(ph.size))"
   ]
  },
  {
   "cell_type": "markdown",
   "id": "6dd1aec3",
   "metadata": {},
   "source": [
    "------"
   ]
  },
  {
   "cell_type": "code",
   "execution_count": 11,
   "id": "0de8a39a",
   "metadata": {},
   "outputs": [
    {
     "data": {
      "text/plain": [
       "[<matplotlib.lines.Line2D at 0x7f7d453cfc40>]"
      ]
     },
     "execution_count": 11,
     "metadata": {},
     "output_type": "execute_result"
    },
    {
     "data": {
      "image/png": "[encoded data removed]",
      "text/plain": [
       "<Figure size 432x288 with 1 Axes>"
      ]
     },
     "metadata": {
      "needs_background": "light"
     },
     "output_type": "display_data"
    }
   ],
   "source": [
    "basis = 2\n",
    "num   = 8\n",
    "\n",
    "A = SA.ApproxAnalyzer('RK4', 'SBP42PROJ')\n",
    "l2Error = A.SinApprox(basis,num)\n",
    "\n",
    "p = np.zeros(num-1)\n",
    "ph = np.zeros(num-1)\n",
    "\n",
    "for i in range(num-1):\n",
    "    ph[i] = i\n",
    "    p[i]  = log2(l2Error[i]/l2Error[i+1])\n",
    "    \n",
    "plt.plot(ph,p)\n",
    "plt.plot(ph, 3.5*np.ones(ph.size))"
   ]
  },
  {
   "cell_type": "markdown",
   "id": "572bb1a7",
   "metadata": {},
   "source": [
    "------"
   ]
  },
  {
   "cell_type": "code",
   "execution_count": 12,
   "id": "ccb4039f",
   "metadata": {},
   "outputs": [
    {
     "data": {
      "text/plain": [
       "[<matplotlib.lines.Line2D at 0x7f7d452d2220>]"
      ]
     },
     "execution_count": 12,
     "metadata": {},
     "output_type": "execute_result"
    },
    {
     "data": {
      "image/png": "[encoded data removed]",
      "text/plain": [
       "<Figure size 432x288 with 1 Axes>"
      ]
     },
     "metadata": {
      "needs_background": "light"
     },
     "output_type": "display_data"
    }
   ],
   "source": [
    "basis = 2\n",
    "num   = 7\n",
    "\n",
    "A = SA.ApproxAnalyzer('RK4', 'SBP21SAT')\n",
    "l2Error = A.SinApprox(basis,num)\n",
    "\n",
    "p = np.zeros(num-1)\n",
    "ph = np.zeros(num-1)\n",
    "\n",
    "for i in range(num-1):\n",
    "    ph[i] = i\n",
    "    p[i]  = log2(l2Error[i]/l2Error[i+1])\n",
    "    \n",
    "plt.plot(ph,p)\n",
    "plt.plot(ph, 2.5*np.ones(ph.size))"
   ]
  },
  {
   "cell_type": "markdown",
   "id": "f7710311",
   "metadata": {},
   "source": [
    "------"
   ]
  },
  {
   "cell_type": "code",
   "execution_count": 2,
   "id": "9aa52ecd",
   "metadata": {},
   "outputs": [
    {
     "data": {
      "text/plain": [
       "[<matplotlib.lines.Line2D at 0x7f1342a40790>]"
      ]
     },
     "execution_count": 2,
     "metadata": {},
     "output_type": "execute_result"
    },
    {
     "data": {
      "image/png": "[encoded data removed]",
      "text/plain": [
       "<Figure size 432x288 with 1 Axes>"
      ]
     },
     "metadata": {
      "needs_background": "light"
     },
     "output_type": "display_data"
    }
   ],
   "source": [
    "basis = 2\n",
    "num   = 6\n",
    "\n",
    "A = SA.ApproxAnalyzer('RK4', 'SBP42SAT')\n",
    "l2Error = A.SinApprox(basis,num)\n",
    "\n",
    "p = np.zeros(num-1)\n",
    "ph = np.zeros(num-1)\n",
    "\n",
    "for i in range(num-1):\n",
    "    ph[i] = i\n",
    "    p[i]  = log(l2Error[i]/l2Error[i+1])\n",
    "    \n",
    "plt.plot(ph,p)"
   ]
  },
  {
   "cell_type": "code",
   "execution_count": null,
   "id": "fe3159b5",
   "metadata": {},
   "outputs": [],
   "source": []
  }
 ],
 "metadata": {
  "kernelspec": {
   "display_name": "Python 3 (ipykernel)",
   "language": "python",
   "name": "python3"
  },
  "language_info": {
   "codemirror_mode": {
    "name": "ipython",
    "version": 3
   },
   "file_extension": ".py",
   "mimetype": "text/x-python",
   "name": "python",
   "nbconvert_exporter": "python",
   "pygments_lexer": "ipython3",
   "version": "3.9.12"
  }
 },
 "nbformat": 4,
 "nbformat_minor": 5
}
