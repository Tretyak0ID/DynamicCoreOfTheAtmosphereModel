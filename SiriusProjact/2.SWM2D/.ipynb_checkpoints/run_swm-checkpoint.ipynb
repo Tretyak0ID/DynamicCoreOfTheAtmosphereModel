{
 "cells": [
  {
   "cell_type": "code",
   "execution_count": 1,
   "id": "f9835784",
   "metadata": {},
   "outputs": [],
   "source": [
    "%load_ext autoreload\n",
    "%autoreload 2\n",
    "\n",
    "from state import State\n",
    "from domain import Domain\n",
    "from swe_operators import SweLinearOperator, SweAdvectiveFormOperator, SweVecInvFormOperator\n",
    "from time_schemes import rk4\n",
    "from initial_conditions import gaussian_hill, barotropic_instability\n",
    "import operators as op\n",
    "from vizualization import surf_field, imshow_field\n",
    "\n",
    "import numpy as np\n",
    "%matplotlib notebook\n"
   ]
  },
  {
   "cell_type": "code",
   "execution_count": 2,
   "id": "7da557f5",
   "metadata": {},
   "outputs": [],
   "source": [
    "# definition of computational domain constants\n",
    "RADZ = 6371.22 * 1000.0 # \"Earth\" radii in meters\n",
    "GRAV = 9.80616 # \"Earth\" gravity acceleration in m * s**(-2)\n",
    "OMEGA = 7.292 * 10**(-5) # \"Earth\" angular velocity in rad * s**(-1)\n",
    "PCORI = 2 * OMEGA # Coriolis parameter\n",
    "H_MEAN = 10 * 1000.0 # \"Earth\" mean atmosphere depth\n",
    "C_GRAV = np.sqrt(GRAV * H_MEAN) # Gravity wave speed\n",
    "LX = 2 * np.pi * RADZ # domain size [0, LX] x [0, LY]\n",
    "LY = 2 * np.pi * RADZ # domain size [0, LX] x [0, LY]"
   ]
  },
  {
   "cell_type": "code",
   "execution_count": 3,
   "id": "d1defaff",
   "metadata": {},
   "outputs": [
    {
     "name": "stdout",
     "output_type": "stream",
     "text": [
      "CPU times: user 984 µs, sys: 830 µs, total: 1.81 ms\n",
      "Wall time: 1.31 ms\n"
     ]
    },
    {
     "data": {
      "text/plain": [
       "11000.0"
      ]
     },
     "execution_count": 3,
     "metadata": {},
     "output_type": "execute_result"
    }
   ],
   "source": [
    "%%time\n",
    "import time\n",
    "from IPython.display import display, clear_output\n",
    "\n",
    "domain = Domain(xs = 0.0, xe = LX, nx = 128, ys = 0.0, ye = LY, ny = 128)\n",
    "#state = gaussian_hill(domain, H_MEAN)\n",
    "state = barotropic_instability(domain, pcori=PCORI, g=GRAV, h_mean=H_MEAN)\n",
    "swe_operator = SweAdvectiveFormOperator(g = GRAV, pcori = PCORI, diff_method = op.diff_sbp42)\n",
    "\n",
    "T = 10 * 3600 * 24.0\n",
    "Nt = 960\n",
    "dt = T / Nt\n",
    "\n",
    "states_list = [state]\n",
    "for k in range(Nt+1):\n",
    "    clear_output(wait=True)\n",
    "    display('Time step '+str(k))\n",
    "    state = rk4(state, swe_operator, dt, domain)\n",
    "    states_list.append(state)"
   ]
  },
  {
   "cell_type": "code",
   "execution_count": 4,
   "id": "4cfa13d9",
   "metadata": {},
   "outputs": [
    {
     "ename": "NameError",
     "evalue": "name 'states_list' is not defined",
     "output_type": "error",
     "traceback": [
      "\u001b[0;31m---------------------------------------------------------------------------\u001b[0m",
      "\u001b[0;31mNameError\u001b[0m                                 Traceback (most recent call last)",
      "\u001b[0;32m/var/folders/62/qcpzgx416yvflb5n3_n5_vr00000gn/T/ipykernel_3181/514984468.py\u001b[0m in \u001b[0;36m<module>\u001b[0;34m\u001b[0m\n\u001b[1;32m      1\u001b[0m \u001b[0;32mfrom\u001b[0m \u001b[0mvizualization\u001b[0m \u001b[0;32mimport\u001b[0m \u001b[0manimate_imshow\u001b[0m\u001b[0;34m,\u001b[0m \u001b[0manimate_surf\u001b[0m\u001b[0;34m,\u001b[0m \u001b[0msurf_field\u001b[0m\u001b[0;34m\u001b[0m\u001b[0;34m\u001b[0m\u001b[0m\n\u001b[1;32m      2\u001b[0m \u001b[0;34m\u001b[0m\u001b[0m\n\u001b[0;32m----> 3\u001b[0;31m \u001b[0mh_list\u001b[0m \u001b[0;34m=\u001b[0m \u001b[0;34m[\u001b[0m\u001b[0mstate\u001b[0m\u001b[0;34m.\u001b[0m\u001b[0mh\u001b[0m \u001b[0;32mfor\u001b[0m \u001b[0mstate\u001b[0m \u001b[0;32min\u001b[0m \u001b[0mstates_list\u001b[0m\u001b[0;34m]\u001b[0m\u001b[0;34m\u001b[0m\u001b[0;34m\u001b[0m\u001b[0m\n\u001b[0m\u001b[1;32m      4\u001b[0m \u001b[0mu_list\u001b[0m \u001b[0;34m=\u001b[0m \u001b[0;34m[\u001b[0m\u001b[0mstate\u001b[0m\u001b[0;34m.\u001b[0m\u001b[0mu\u001b[0m \u001b[0;32mfor\u001b[0m \u001b[0mstate\u001b[0m \u001b[0;32min\u001b[0m \u001b[0mstates_list\u001b[0m\u001b[0;34m]\u001b[0m\u001b[0;34m\u001b[0m\u001b[0;34m\u001b[0m\u001b[0m\n\u001b[1;32m      5\u001b[0m \u001b[0mv_list\u001b[0m \u001b[0;34m=\u001b[0m \u001b[0;34m[\u001b[0m\u001b[0mstate\u001b[0m\u001b[0;34m.\u001b[0m\u001b[0mv\u001b[0m \u001b[0;32mfor\u001b[0m \u001b[0mstate\u001b[0m \u001b[0;32min\u001b[0m \u001b[0mstates_list\u001b[0m\u001b[0;34m]\u001b[0m\u001b[0;34m\u001b[0m\u001b[0;34m\u001b[0m\u001b[0m\n",
      "\u001b[0;31mNameError\u001b[0m: name 'states_list' is not defined"
     ]
    }
   ],
   "source": [
    "from vizualization import animate_imshow, animate_surf, surf_field\n",
    "\n",
    "h_list = [state.h for state in states_list]\n",
    "u_list = [state.u for state in states_list]\n",
    "v_list = [state.v for state in states_list]\n",
    "curl_list = [op.calc_curl(state.u, state.v, domain, op.diff_sbp42) for state in states_list]\n",
    "anim = animate_imshow(curl_list, domain, anim_speed=4)"
   ]
  },
  {
   "cell_type": "code",
   "execution_count": null,
   "id": "798161ef",
   "metadata": {},
   "outputs": [],
   "source": []
  }
 ],
 "metadata": {
  "kernelspec": {
   "display_name": "Python 3 (ipykernel)",
   "language": "python",
   "name": "python3"
  },
  "language_info": {
   "codemirror_mode": {
    "name": "ipython",
    "version": 3
   },
   "file_extension": ".py",
   "mimetype": "text/x-python",
   "name": "python",
   "nbconvert_exporter": "python",
   "pygments_lexer": "ipython3",
   "version": "3.8.8"
  }
 },
 "nbformat": 4,
 "nbformat_minor": 5
}
