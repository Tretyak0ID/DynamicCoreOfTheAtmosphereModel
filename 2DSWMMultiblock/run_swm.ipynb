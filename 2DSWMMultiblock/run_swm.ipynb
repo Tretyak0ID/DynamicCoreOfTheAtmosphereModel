{
 "cells": [
  {
   "cell_type": "code",
   "execution_count": 7,
   "id": "f9835784",
   "metadata": {},
   "outputs": [
    {
     "name": "stdout",
     "output_type": "stream",
     "text": [
      "The autoreload extension is already loaded. To reload it, use:\n",
      "  %reload_ext autoreload\n"
     ]
    }
   ],
   "source": [
    "%load_ext autoreload\n",
    "%autoreload 2\n",
    "\n",
    "from state import State\n",
    "from domain import Domain\n",
    "from swe_operators import SweAdvectiveFormOperator\n",
    "from time_schemes import rk4\n",
    "from initial_conditions import gaussian_hill, barotropic_instability, geostrophic_balance\n",
    "import operators as op\n",
    "from vizualization import trisurf_field, animate_trisurf, surf_interpolated_field, animate_interpolated_surf, \\\n",
    "                          animate_tripcolor, tripcolor_field, imshow_interpolated_field\n",
    "\n",
    "import numpy as np\n",
    "from vecmath import calc_mass, calc_c_norm\n",
    "%matplotlib notebook"
   ]
  },
  {
   "cell_type": "code",
   "execution_count": 8,
   "id": "f15c0974",
   "metadata": {},
   "outputs": [],
   "source": [
    "# definition of computational domain constants\n",
    "RADZ = 6371.22 * 1000.0 # \"Earth\" radii in meters\n",
    "GRAV = 9.80616 # \"Earth\" gravity acceleration in m * s**(-2)\n",
    "OMEGA = 7.292 * 10**(-5) # \"Earth\" angular velocity in rad * s**(-1)\n",
    "PCORI = 2 * OMEGA # Coriolis parameter\n",
    "H_MEAN = 10 * 1000.0 # \"Earth\" mean atmosphere depth\n",
    "C_GRAV = np.sqrt(GRAV * H_MEAN) # Gravity wave speed\n",
    "LX = 2 * np.pi * RADZ # domain size [0, LX] x [0, LY]\n",
    "LY = 2 * np.pi * RADZ # domain size [0, LX] x [0, LY]"
   ]
  },
  {
   "cell_type": "markdown",
   "id": "7ad2f150",
   "metadata": {},
   "source": [
    "Несколько примеров использования"
   ]
  },
  {
   "cell_type": "markdown",
   "id": "1e479d31",
   "metadata": {},
   "source": [
    "# Разбегание горки, два блока с одинаковым разрешением"
   ]
  },
  {
   "cell_type": "code",
   "execution_count": 9,
   "id": "d1defaff",
   "metadata": {},
   "outputs": [
    {
     "data": {
      "text/plain": [
       "'Time step 240'"
      ]
     },
     "metadata": {},
     "output_type": "display_data"
    },
    {
     "name": "stdout",
     "output_type": "stream",
     "text": [
      "CPU times: user 3.98 s, sys: 787 ms, total: 4.76 s\n",
      "Wall time: 4.25 s\n"
     ]
    }
   ],
   "source": [
    "%%time\n",
    "import time\n",
    "from IPython.display import display, clear_output\n",
    "\n",
    "domains = [Domain(xs = 0.0,    xe = LX / 2, nx = 32, ys = 0.0, ye = LY, ny = 64,  lx=LX, ly=LY), \\\n",
    "           Domain(xs = LX / 2, xe = LX    , nx = 32, ys = 0.0, ye = LY, ny = 64,  lx=LX, ly=LY)]\n",
    "\n",
    "state = gaussian_hill(domains, H_MEAN)\n",
    "swe_operator = SweAdvectiveFormOperator(g=GRAV, pcori=0.0, diff_method = op.diff_sbp21)\n",
    "\n",
    "T = 2 * 24 * 3600\n",
    "Nt = 2* 120\n",
    "dt = T / Nt\n",
    "\n",
    "states_list = [state]\n",
    "for k in range(Nt+1):\n",
    "    clear_output(wait=True)\n",
    "    display('Time step '+ str(k))\n",
    "    state = rk4(state, swe_operator, dt, domains)\n",
    "    states_list.append(state)"
   ]
  },
  {
   "cell_type": "code",
   "execution_count": 5,
   "id": "87530406",
   "metadata": {},
   "outputs": [],
   "source": [
    "h_list = [state.h for state in states_list]"
   ]
  },
  {
   "cell_type": "code",
   "execution_count": null,
   "id": "697808bc",
   "metadata": {},
   "outputs": [],
   "source": [
    "animate_trisurf(h_list, domains, 4)"
   ]
  },
  {
   "cell_type": "code",
   "execution_count": 6,
   "id": "1cd3166a",
   "metadata": {},
   "outputs": [
    {
     "ename": "NameError",
     "evalue": "name 'calc_c_norm' is not defined",
     "output_type": "error",
     "traceback": [
      "\u001b[0;31m---------------------------------------------------------------------------\u001b[0m",
      "\u001b[0;31mNameError\u001b[0m                                 Traceback (most recent call last)",
      "Input \u001b[0;32mIn [6]\u001b[0m, in \u001b[0;36m<cell line: 4>\u001b[0;34m()\u001b[0m\n\u001b[1;32m      2\u001b[0m c_norms \u001b[38;5;241m=\u001b[39m np\u001b[38;5;241m.\u001b[39mempty([])\n\u001b[1;32m      4\u001b[0m \u001b[38;5;28;01mfor\u001b[39;00m i \u001b[38;5;129;01min\u001b[39;00m \u001b[38;5;28mrange\u001b[39m(np\u001b[38;5;241m.\u001b[39msize(states_list)):\n\u001b[0;32m----> 5\u001b[0m     c_norms \u001b[38;5;241m=\u001b[39m np\u001b[38;5;241m.\u001b[39mappend(c_norms, \u001b[43mcalc_c_norm\u001b[49m(states_list[\u001b[38;5;241m0\u001b[39m]\u001b[38;5;241m.\u001b[39mh\u001b[38;5;241m-\u001b[39mstates_list[i]\u001b[38;5;241m.\u001b[39mh, domain))\n",
      "\u001b[0;31mNameError\u001b[0m: name 'calc_c_norm' is not defined"
     ]
    }
   ],
   "source": [
    "import matplotlib.pyplot as plt\n",
    "c_norms = np.empty([])\n",
    "\n",
    "for i in range(np.size(states_list)):\n",
    "    c_norms = np.append(c_norms, calc_c_norm(states_list[0].h-states_list[i].h, domain))"
   ]
  },
  {
   "cell_type": "code",
   "execution_count": null,
   "id": "da8c753e",
   "metadata": {},
   "outputs": [],
   "source": [
    "plt.plot(c_norms[1:])\n",
    "plt.grid()"
   ]
  }
 ],
 "metadata": {
  "kernelspec": {
   "display_name": "Python 3 (ipykernel)",
   "language": "python",
   "name": "python3"
  },
  "language_info": {
   "codemirror_mode": {
    "name": "ipython",
    "version": 3
   },
   "file_extension": ".py",
   "mimetype": "text/x-python",
   "name": "python",
   "nbconvert_exporter": "python",
   "pygments_lexer": "ipython3",
   "version": "3.8.8"
  }
 },
 "nbformat": 4,
 "nbformat_minor": 5
}
