{
 "cells": [
  {
   "cell_type": "code",
   "execution_count": 7,
   "id": "1ac4d6c1",
   "metadata": {},
   "outputs": [
    {
     "name": "stdout",
     "output_type": "stream",
     "text": [
      "The autoreload extension is already loaded. To reload it, use:\n",
      "  %reload_ext autoreload\n"
     ]
    }
   ],
   "source": [
    "%load_ext autoreload\n",
    "%autoreload 2\n",
    "\n",
    "import numpy as np\n",
    "from domain import Domain\n",
    "from operators import calc_div, central_diff2\n",
    "from vecmath import calc_c_norm, calc_l2_norm\n",
    "\n",
    "%matplotlib notebook"
   ]
  },
  {
   "cell_type": "markdown",
   "id": "9723f888",
   "metadata": {},
   "source": [
    "# Численное исследование сходимости\n",
    "\n",
    "Протестируем сходимость оператора дивергенции. В качестве тестовых функций будем использовать поля\n",
    "\\begin{align}\n",
    "u = 2\\cos{2x}\\cos(3y), \\quad v=-3\\sin{2x}\\sin{3y}.\n",
    "\\end{align}\n",
    "Точное значение дивергенции такого поля скорости:\n",
    "\\begin{align}\n",
    "-13 \\sin{2x}\\cos{3y}.\n",
    "\\end{align}"
   ]
  },
  {
   "cell_type": "code",
   "execution_count": 8,
   "id": "bc3c4448",
   "metadata": {},
   "outputs": [
    {
     "name": "stdout",
     "output_type": "stream",
     "text": [
      "Convergence rate in C norm = 1.9714416544896332\n",
      "Convergence rate in l2 norm = 1.971441654490144\n"
     ]
    }
   ],
   "source": [
    "# списки для хранения норм ошибок\n",
    "c_err_norms = []\n",
    "l2_err_norms = []\n",
    "\n",
    "# будем считать нормы ошибки при различном количестве узлов сетки\n",
    "n_points = (16, 32, 64, 128)\n",
    "for n in n_points:\n",
    "    domain = Domain(xs = 0.0, xe = 2 * np.pi, nx = n, \\\n",
    "                    ys = 0.0, ye = 2 * np.pi, ny = n)\n",
    "\n",
    "    u =  2 * np.cos(2*domain.xx) * np.cos(3*domain.yy)\n",
    "    v = -3 * np.sin(2*domain.xx) * np.sin(3*domain.yy)\n",
    "    div_exact = -13 * np.sin(2*domain.xx) * np.cos(3*domain.yy)\n",
    "\n",
    "    div = calc_div(u, v, domain, diff_method=central_diff2)\n",
    "\n",
    "    err = div - div_exact\n",
    "\n",
    "    c_err_norms.append(calc_c_norm(err, domain) / calc_c_norm(div_exact, domain))\n",
    "    l2_err_norms.append(calc_l2_norm(err, domain) / calc_l2_norm(div_exact, domain))\n",
    "\n",
    "c_norm_convergence_rate = -np.polyfit(np.log(n_points), np.log(c_err_norms), deg=1)[0]\n",
    "l2_norm_convergence_rate = -np.polyfit(np.log(n_points), np.log(l2_err_norms), deg=1)[0]\n",
    "\n",
    "print(f\"Convergence rate in C norm = {c_norm_convergence_rate}\")\n",
    "print(f\"Convergence rate in l2 norm = {l2_norm_convergence_rate}\")"
   ]
  }
 ],
 "metadata": {
  "kernelspec": {
   "display_name": "Python 3 (ipykernel)",
   "language": "python",
   "name": "python3"
  },
  "language_info": {
   "codemirror_mode": {
    "name": "ipython",
    "version": 3
   },
   "file_extension": ".py",
   "mimetype": "text/x-python",
   "name": "python",
   "nbconvert_exporter": "python",
   "pygments_lexer": "ipython3",
   "version": "3.8.10"
  }
 },
 "nbformat": 4,
 "nbformat_minor": 5
}
